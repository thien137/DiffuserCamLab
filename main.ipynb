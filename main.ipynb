{
  "nbformat": 4,
  "nbformat_minor": 0,
  "metadata": {
    "colab": {
      "provenance": [],
      "gpuType": "T4",
      "include_colab_link": true
    },
    "kernelspec": {
      "name": "python3",
      "display_name": "Python 3"
    },
    "language_info": {
      "name": "python"
    },
    "accelerator": "GPU"
  },
  "cells": [
    {
      "cell_type": "markdown",
      "metadata": {
        "id": "view-in-github",
        "colab_type": "text"
      },
      "source": [
        "<a href=\"https://colab.research.google.com/github/thien137/DiffuserCamLab/blob/main/main.ipynb\" target=\"_parent\"><img src=\"https://colab.research.google.com/assets/colab-badge.svg\" alt=\"Open In Colab\"/></a>"
      ]
    },
    {
      "cell_type": "code",
      "execution_count": null,
      "metadata": {
        "colab": {
          "base_uri": "https://localhost:8080/"
        },
        "id": "XWe2dFqPAMXN",
        "outputId": "d371f752-0fdd-4f1d-f0fd-1c2f47fe9737"
      },
      "outputs": [
        {
          "output_type": "stream",
          "name": "stdout",
          "text": [
            "Mounted at /content/drive\n"
          ]
        }
      ],
      "source": [
        "from google.colab import drive\n",
        "drive.mount('/content/drive')"
      ]
    },
    {
      "cell_type": "code",
      "source": [
        "!pip install torchmetrics"
      ],
      "metadata": {
        "id": "u3ga9Uhzw2KX",
        "colab": {
          "base_uri": "https://localhost:8080/"
        },
        "outputId": "50882af6-c777-4e71-d556-1e1050c591ea"
      },
      "execution_count": null,
      "outputs": [
        {
          "output_type": "stream",
          "name": "stdout",
          "text": [
            "Collecting torchmetrics\n",
            "  Downloading torchmetrics-1.2.0-py3-none-any.whl (805 kB)\n",
            "\u001b[2K     \u001b[90m━━━━━━━━━━━━━━━━━━━━━━━━━━━━━━━━━━━━━━━━\u001b[0m \u001b[32m805.2/805.2 kB\u001b[0m \u001b[31m11.8 MB/s\u001b[0m eta \u001b[36m0:00:00\u001b[0m\n",
            "\u001b[?25hRequirement already satisfied: numpy>1.20.0 in /usr/local/lib/python3.10/dist-packages (from torchmetrics) (1.23.5)\n",
            "Requirement already satisfied: torch>=1.8.1 in /usr/local/lib/python3.10/dist-packages (from torchmetrics) (2.1.0+cu118)\n",
            "Collecting lightning-utilities>=0.8.0 (from torchmetrics)\n",
            "  Downloading lightning_utilities-0.10.0-py3-none-any.whl (24 kB)\n",
            "Requirement already satisfied: packaging>=17.1 in /usr/local/lib/python3.10/dist-packages (from lightning-utilities>=0.8.0->torchmetrics) (23.2)\n",
            "Requirement already satisfied: setuptools in /usr/local/lib/python3.10/dist-packages (from lightning-utilities>=0.8.0->torchmetrics) (67.7.2)\n",
            "Requirement already satisfied: typing-extensions in /usr/local/lib/python3.10/dist-packages (from lightning-utilities>=0.8.0->torchmetrics) (4.5.0)\n",
            "Requirement already satisfied: filelock in /usr/local/lib/python3.10/dist-packages (from torch>=1.8.1->torchmetrics) (3.13.1)\n",
            "Requirement already satisfied: sympy in /usr/local/lib/python3.10/dist-packages (from torch>=1.8.1->torchmetrics) (1.12)\n",
            "Requirement already satisfied: networkx in /usr/local/lib/python3.10/dist-packages (from torch>=1.8.1->torchmetrics) (3.2.1)\n",
            "Requirement already satisfied: jinja2 in /usr/local/lib/python3.10/dist-packages (from torch>=1.8.1->torchmetrics) (3.1.2)\n",
            "Requirement already satisfied: fsspec in /usr/local/lib/python3.10/dist-packages (from torch>=1.8.1->torchmetrics) (2023.6.0)\n",
            "Requirement already satisfied: triton==2.1.0 in /usr/local/lib/python3.10/dist-packages (from torch>=1.8.1->torchmetrics) (2.1.0)\n",
            "Requirement already satisfied: MarkupSafe>=2.0 in /usr/local/lib/python3.10/dist-packages (from jinja2->torch>=1.8.1->torchmetrics) (2.1.3)\n",
            "Requirement already satisfied: mpmath>=0.19 in /usr/local/lib/python3.10/dist-packages (from sympy->torch>=1.8.1->torchmetrics) (1.3.0)\n",
            "Installing collected packages: lightning-utilities, torchmetrics\n",
            "Successfully installed lightning-utilities-0.10.0 torchmetrics-1.2.0\n"
          ]
        }
      ]
    },
    {
      "cell_type": "code",
      "source": [
        "import pickle\n",
        "import numpy as np\n",
        "import os\n",
        "import torch\n",
        "import torchvision\n",
        "import torch.nn as nn\n",
        "import torch.optim as optim\n",
        "import torch.nn.functional as F\n",
        "import matplotlib.pyplot as plt\n",
        "import imageio\n",
        "import scipy.io\n",
        "from PIL import Image, ImageOps\n",
        "from functools import partial\n",
        "from torchvision import transforms\n",
        "from torchmetrics import TotalVariation"
      ],
      "metadata": {
        "id": "OiDARbCVqBuj"
      },
      "execution_count": null,
      "outputs": []
    },
    {
      "cell_type": "code",
      "source": [
        "dtype = torch.float32\n",
        "device = \"cpu\"\n",
        "#if torch.cuda.is_available():\n",
        "#    device = \"cuda:0\"\n",
        "torch.backends.cudnn.benchmark = True\n",
        "torch.backends.cudnn.deterministic = False"
      ],
      "metadata": {
        "id": "h9iMBwxpwIKM"
      },
      "execution_count": null,
      "outputs": []
    },
    {
      "cell_type": "code",
      "source": [
        "# Output Gif\n",
        "def exportGIF(im, sample_name, data_dir=\"./Images/\", name=\"output.gif\"):\n",
        "  # \"ReLU\"\n",
        "  rec = torch.maximum(im, torch.zeros(im.shape).to(device=device)).detach().cpu()\n",
        "  # Normalize to [0,255] for imagio\n",
        "  rec /= np.max(rec.numpy(), axis=(1,2))[..., None, None]\n",
        "  rec *= 255\n",
        "  imageio.mimsave(f\"{data_dir}/{sample_name}/{name}\", rec, loop=100)"
      ],
      "metadata": {
        "id": "XrE46qvbqPw6"
      },
      "execution_count": null,
      "outputs": []
    },
    {
      "cell_type": "code",
      "source": [
        "# Image Loading\n",
        "def load_data(sample_name, data_dir=\"./Images\"):\n",
        "    # Constants\n",
        "    PSF_BIAS = 102\n",
        "    IMAGE_BIAS = 100\n",
        "\n",
        "    # raw\n",
        "    image_file = f\"{data_dir}/{sample_name}/raw.png\"\n",
        "    raw = transforms.ToTensor()(Image.open(image_file)).to(device=device, dtype=dtype)\n",
        "\n",
        "    # psf\n",
        "    impulse_mat_file_name = f\"{data_dir}/{sample_name}/psf.mat\"\n",
        "    impulse_var_name = \"psf\"\n",
        "    #pre_psf = transforms.ToTensor()(Image.open(image_file)).to(device=device, dtype=dtype)\n",
        "    pre_psf = transforms.ToTensor()(np.array(scipy.io.loadmat(impulse_mat_file_name)[impulse_var_name])).to(device=device, dtype=dtype)\n",
        "\n",
        "    # get shape\n",
        "    Z, M, N = pre_psf.shape\n",
        "\n",
        "    # get padding (2M, 2N)\n",
        "    padding = (N // 2, N // 2, M // 2, M // 2)\n",
        "\n",
        "    # process images\n",
        "    raw -= IMAGE_BIAS\n",
        "    raw /= torch.max(raw)\n",
        "    raw = torch.maximum(raw, torch.zeros(raw.shape).to(device=device, dtype=dtype))\n",
        "    raw = F.pad(raw, padding, \"constant\")\n",
        "\n",
        "    psf = torch.zeros((Z, M*2, N*2)).to(device=device, dtype=dtype)\n",
        "    for i in range(len(psf)):\n",
        "        psf[i] = F.pad(pre_psf[i], padding, \"constant\")\n",
        "    psf -= PSF_BIAS\n",
        "    psf = torch.maximum(psf, torch.zeros(psf.shape).to(device=device, dtype=dtype))\n",
        "\n",
        "    return raw, psf"
      ],
      "metadata": {
        "id": "xBAX5B9Qv7DT"
      },
      "execution_count": null,
      "outputs": []
    },
    {
      "cell_type": "code",
      "source": [
        "raw, psf = load_data(\"example\", \"drive/MyDrive/DiffuserCam/Images/\")"
      ],
      "metadata": {
        "id": "I0M8rAmUsp3n"
      },
      "execution_count": null,
      "outputs": []
    },
    {
      "cell_type": "code",
      "source": [
        "np.vstack(map(np.ravel, np.mgrid[0:256:44j, 0:256:540j, 0:256:640j])).T"
      ],
      "metadata": {
        "colab": {
          "base_uri": "https://localhost:8080/"
        },
        "id": "Fvmv-kHMfs3x",
        "outputId": "842a1e2e-fa14-476d-941d-bb85a788fb0d"
      },
      "execution_count": null,
      "outputs": [
        {
          "output_type": "stream",
          "name": "stderr",
          "text": [
            "<ipython-input-8-e7450c2f3d1a>:1: FutureWarning: arrays to stack must be passed as a \"sequence\" type such as list or tuple. Support for non-sequence iterables such as generators is deprecated as of NumPy 1.16 and will raise an error in the future.\n",
            "  np.vstack(map(np.ravel, np.mgrid[0:256:44j, 0:256:540j, 0:256:640j])).T\n"
          ]
        },
        {
          "output_type": "execute_result",
          "data": {
            "text/plain": [
              "array([[  0.        ,   0.        ,   0.        ],\n",
              "       [  0.        ,   0.        ,   0.40062598],\n",
              "       [  0.        ,   0.        ,   0.80125196],\n",
              "       ...,\n",
              "       [256.        , 256.        , 255.19874804],\n",
              "       [256.        , 256.        , 255.59937402],\n",
              "       [256.        , 256.        , 256.        ]])"
            ]
          },
          "metadata": {},
          "execution_count": 8
        }
      ]
    },
    {
      "cell_type": "code",
      "source": [
        "def to_tensor(arr):\n",
        "  return torch.tensor(arr).to(device=device, dtype=dtype)"
      ],
      "metadata": {
        "id": "0FWVLg2Uei5y"
      },
      "execution_count": null,
      "outputs": []
    },
    {
      "cell_type": "code",
      "source": [
        "# Rotation Algorithms\n",
        "def rotateGridSample(im, u, theta):\n",
        "  # Create Rotation Matrix with Translation\n",
        "  u_x, u_y, u_z = u # Rotate on z-axis by 180 degrees\n",
        "  R = [[np.cos(theta)+u_x**2*(1-np.cos(theta)), u_x*u_y*(1-np.cos(theta))-u_z*np.sin(theta), u_x*u_z*(1-np.cos(theta))+u_y*np.sin(theta)],\n",
        "        [u_y*u_x*(1-np.cos(theta))+u_z*np.sin(theta), np.cos(theta)+u_y**2*(1-np.cos(theta)), u_y*u_z*(1-np.cos(theta))-u_x*np.sin(theta)],\n",
        "        [u_z*u_x*(1-np.cos(theta))-u_y*np.sin(theta), u_z*u_y*(1-np.cos(theta))+u_x*np.sin(theta), np.cos(theta)+u_z**2*(1-np.cos(theta))]]\n",
        "  t = [0, 0, 0]\n",
        "\n",
        "  R_t = np.eye(4, 4)\n",
        "  R_t[:3,:3] = R\n",
        "  R_t[:3,3] = t\n",
        "  R_t = to_tensor(R_t)\n",
        "\n",
        "  # Rotate a 256, 256, 256\n",
        "  # Reshape and interpolate to 44, 540, 640\n",
        "  center_shift = to_tensor([128, 128, 128, 0])\n",
        "\n",
        "  # Rotate 256x256x256\n",
        "  coords = np.vstack(map(np.ravel, np.mgrid[0:255:44j,0:255:540j,0:255:640j])).T\n",
        "  coords = np.hstack((coords, np.ones((coords.shape[0], 1))))\n",
        "  coords = to_tensor(coords)\n",
        "  coords -= center_shift\n",
        "\n",
        "  rotated_coords = coords @ R_t\n",
        "  rotated_coords += center_shift\n",
        "  rotated_coords = torch.round(rotated_coords).to(int)\n",
        "\n",
        "  # Send to 44x540x640\n",
        "  mask = torch.all(rotated_coords >= to_tensor([0, 0, 0, 0]), axis=1) \\\n",
        "          & torch.all(rotated_coords <= to_tensor([255, 255, 255, 1]), axis=1)\n",
        "  rotated_coords = rotated_coords[mask]\n",
        "\n",
        "  normal_coords = np.vstack(map(np.ravel, np.mgrid[0:44,0:540,0:640])).T\n",
        "  normal_coords = normal_coords[mask]\n",
        "  normal_coords = to_tensor(normal_coords).to(int)\n",
        "\n",
        "  reconstruction = np.zeros((44, 540, 640))\n",
        "  reconstruction[normal_coords[:,0], normal_coords[:,1], normal_coords[:,2]] = im[rotated_coords[:,0], rotated_coords[:,1], rotated_coords[:,2]]\n",
        "\n",
        "  return reconstruction"
      ],
      "metadata": {
        "id": "mLMAvXvzv70D"
      },
      "execution_count": null,
      "outputs": []
    },
    {
      "cell_type": "code",
      "source": [
        "# FFT Algorithms\n",
        "def conv2d(x, psf):\n",
        "    x_f = torch.fft.fft2(x)\n",
        "    psf_f = torch.fft.fft2(psf)\n",
        "    conv = torch.fft.ifft2(x_f * psf_f)\n",
        "    conv = torch.fft.ifftshift(conv).real\n",
        "    return conv\n",
        "\n",
        "def fft_forward(x, psf):\n",
        "    Z, M, N = x.shape\n",
        "    forward = torch.zeros(1, M*2, N*2).to(device=device, dtype=dtype)\n",
        "    for i in range(Z):\n",
        "        forward += conv2d(x[i], psf[i])\n",
        "    return forward\n",
        "\n",
        "class Convolution_FFT(nn.Module):\n",
        "    def __init__(self, noise, u, theta):\n",
        "        super().__init__()\n",
        "\n",
        "        # Flatten Image Size\n",
        "        self.image_width = 256\n",
        "        self.image_height = 256\n",
        "        self.depth = 256\n",
        "        self.weight = nn.Parameter(noise * torch.rand(self.depth, self.image_height, self.image_width)\n",
        "                                   .to(device=device, dtype=dtype))\n",
        "        self.u = u\n",
        "        self.theta = theta\n",
        "\n",
        "    def forward(self, input):\n",
        "        forward = torch.zeros(1, self.image_height, self.image_width).to(device=device, dtype=dtype)\n",
        "        rotated_weights = rotateGridSample(self.weight, self.u, self.theta)\n",
        "        for i in range(self.depth):\n",
        "            forward += conv2d(rotated_weights[i], input[i])\n",
        "        return forward"
      ],
      "metadata": {
        "id": "DdNmGGhSv9QN"
      },
      "execution_count": null,
      "outputs": []
    },
    {
      "cell_type": "code",
      "source": [
        "# Training Algorithm\n",
        "def model_train(config, raw, psf, model=None, epochs=200):\n",
        "    print(\"Begin Training...\")\n",
        "    if not model:\n",
        "        Z, M, N = psf.shape\n",
        "        model = Convolution_FFT(config[\"noise\"], config[\"u\"], config[\"theta\"])\n",
        "        model = model.to(device=device)\n",
        "\n",
        "    mse_fn = nn.MSELoss().to(device=device)\n",
        "    tv_fn = TotalVariation().to(device=device)\n",
        "    def criterion(forward):\n",
        "        l1_regularization = config[\"l1\"] * torch.norm(model.weight, 1)\n",
        "        tv_regularization = config[\"tv\"] * tv_fn(model.weight.unsqueeze(0))\n",
        "        mse_loss = mse_fn(forward, raw)\n",
        "        return mse_loss + l1_regularization + tv_regularization\n",
        "    optimizer = optim.Adam(model.parameters(), lr=config[\"lr\"])\n",
        "\n",
        "    fig, ax = plt.subplots()\n",
        "\n",
        "    running_loss = np.array([])\n",
        "    for epoch in range(epochs):\n",
        "        # model.train()\n",
        "        optimizer.zero_grad()\n",
        "\n",
        "        forward = model(psf)\n",
        "        loss = criterion(forward)\n",
        "        loss.backward()\n",
        "        optimizer.step()\n",
        "\n",
        "        model.weight.data = torch.maximum(model.weight, torch.zeros(model.weight.shape).to(device=device, dtype=dtype))\n",
        "\n",
        "        # Log Statistics\n",
        "        log_loss = np.log(loss.item())\n",
        "        running_loss = np.append(running_loss, log_loss)\n",
        "\n",
        "        # Print Statistics\n",
        "        if epoch % 10 == 0:\n",
        "            print('Epoch %d, loss = %.16f' % (epoch, log_loss))\n",
        "\n",
        "    plt.plot(np.arange(0, len(running_loss)), running_loss)\n",
        "    plt.show()\n",
        "    return model"
      ],
      "metadata": {
        "id": "RjHpHzQrwFP1"
      },
      "execution_count": null,
      "outputs": []
    },
    {
      "cell_type": "code",
      "source": [
        "model_config = {\n",
        "    \"l1\": 1e-5,\n",
        "    \"tv\": 1e-5,\n",
        "    \"noise\": 1e-9,\n",
        "    \"lr\": 1e-4,\n",
        "    \"u\": torch.tensor([1, 0, 0]),\n",
        "    \"theta\": 0\n",
        "}"
      ],
      "metadata": {
        "id": "AtIT42ZlwjCs"
      },
      "execution_count": null,
      "outputs": []
    },
    {
      "cell_type": "code",
      "source": [
        "model_fft = model_train(model_config, raw, psf, epochs=500)"
      ],
      "metadata": {
        "colab": {
          "base_uri": "https://localhost:8080/",
          "height": 883
        },
        "id": "772aQC_FzOuF",
        "outputId": "226ba745-ea76-4439-ea56-b9876282eecb"
      },
      "execution_count": null,
      "outputs": [
        {
          "output_type": "stream",
          "name": "stdout",
          "text": [
            "Begin Training...\n"
          ]
        },
        {
          "output_type": "stream",
          "name": "stderr",
          "text": [
            "/usr/local/lib/python3.10/dist-packages/torchmetrics/utilities/prints.py:62: FutureWarning: Importing `TotalVariation` from `torchmetrics` was deprecated and will be removed in 2.0. Import `TotalVariation` from `torchmetrics.image` instead.\n",
            "  _future_warning(\n",
            "<ipython-input-81-2e2b00c0c541>:20: FutureWarning: arrays to stack must be passed as a \"sequence\" type such as list or tuple. Support for non-sequence iterables such as generators is deprecated as of NumPy 1.16 and will raise an error in the future.\n",
            "  coords = np.vstack(map(np.ravel, np.mgrid[0:255:44j,0:255:540j,0:255:640j])).T\n",
            "<ipython-input-81-2e2b00c0c541>:34: FutureWarning: arrays to stack must be passed as a \"sequence\" type such as list or tuple. Support for non-sequence iterables such as generators is deprecated as of NumPy 1.16 and will raise an error in the future.\n",
            "  normal_coords = np.vstack(map(np.ravel, np.mgrid[0:44,0:540,0:640])).T\n"
          ]
        },
        {
          "output_type": "error",
          "ename": "RuntimeError",
          "evalue": "ignored",
          "traceback": [
            "\u001b[0;31m---------------------------------------------------------------------------\u001b[0m",
            "\u001b[0;31mRuntimeError\u001b[0m                              Traceback (most recent call last)",
            "\u001b[0;32m<ipython-input-82-8fbc0b880a38>\u001b[0m in \u001b[0;36m<cell line: 1>\u001b[0;34m()\u001b[0m\n\u001b[0;32m----> 1\u001b[0;31m \u001b[0mmodel_fft\u001b[0m \u001b[0;34m=\u001b[0m \u001b[0mmodel_train\u001b[0m\u001b[0;34m(\u001b[0m\u001b[0mmodel_config\u001b[0m\u001b[0;34m,\u001b[0m \u001b[0mraw\u001b[0m\u001b[0;34m,\u001b[0m \u001b[0mpsf\u001b[0m\u001b[0;34m,\u001b[0m \u001b[0mepochs\u001b[0m\u001b[0;34m=\u001b[0m\u001b[0;36m500\u001b[0m\u001b[0;34m)\u001b[0m\u001b[0;34m\u001b[0m\u001b[0;34m\u001b[0m\u001b[0m\n\u001b[0m",
            "\u001b[0;32m<ipython-input-78-27926b797996>\u001b[0m in \u001b[0;36mmodel_train\u001b[0;34m(config, raw, psf, model, epochs)\u001b[0m\n\u001b[1;32m     23\u001b[0m         \u001b[0moptimizer\u001b[0m\u001b[0;34m.\u001b[0m\u001b[0mzero_grad\u001b[0m\u001b[0;34m(\u001b[0m\u001b[0;34m)\u001b[0m\u001b[0;34m\u001b[0m\u001b[0;34m\u001b[0m\u001b[0m\n\u001b[1;32m     24\u001b[0m \u001b[0;34m\u001b[0m\u001b[0m\n\u001b[0;32m---> 25\u001b[0;31m         \u001b[0mforward\u001b[0m \u001b[0;34m=\u001b[0m \u001b[0mmodel\u001b[0m\u001b[0;34m(\u001b[0m\u001b[0mpsf\u001b[0m\u001b[0;34m)\u001b[0m\u001b[0;34m\u001b[0m\u001b[0;34m\u001b[0m\u001b[0m\n\u001b[0m\u001b[1;32m     26\u001b[0m         \u001b[0mloss\u001b[0m \u001b[0;34m=\u001b[0m \u001b[0mcriterion\u001b[0m\u001b[0;34m(\u001b[0m\u001b[0mforward\u001b[0m\u001b[0;34m)\u001b[0m\u001b[0;34m\u001b[0m\u001b[0;34m\u001b[0m\u001b[0m\n\u001b[1;32m     27\u001b[0m         \u001b[0mloss\u001b[0m\u001b[0;34m.\u001b[0m\u001b[0mbackward\u001b[0m\u001b[0;34m(\u001b[0m\u001b[0;34m)\u001b[0m\u001b[0;34m\u001b[0m\u001b[0;34m\u001b[0m\u001b[0m\n",
            "\u001b[0;32m/usr/local/lib/python3.10/dist-packages/torch/nn/modules/module.py\u001b[0m in \u001b[0;36m_wrapped_call_impl\u001b[0;34m(self, *args, **kwargs)\u001b[0m\n\u001b[1;32m   1516\u001b[0m             \u001b[0;32mreturn\u001b[0m \u001b[0mself\u001b[0m\u001b[0;34m.\u001b[0m\u001b[0m_compiled_call_impl\u001b[0m\u001b[0;34m(\u001b[0m\u001b[0;34m*\u001b[0m\u001b[0margs\u001b[0m\u001b[0;34m,\u001b[0m \u001b[0;34m**\u001b[0m\u001b[0mkwargs\u001b[0m\u001b[0;34m)\u001b[0m  \u001b[0;31m# type: ignore[misc]\u001b[0m\u001b[0;34m\u001b[0m\u001b[0;34m\u001b[0m\u001b[0m\n\u001b[1;32m   1517\u001b[0m         \u001b[0;32melse\u001b[0m\u001b[0;34m:\u001b[0m\u001b[0;34m\u001b[0m\u001b[0;34m\u001b[0m\u001b[0m\n\u001b[0;32m-> 1518\u001b[0;31m             \u001b[0;32mreturn\u001b[0m \u001b[0mself\u001b[0m\u001b[0;34m.\u001b[0m\u001b[0m_call_impl\u001b[0m\u001b[0;34m(\u001b[0m\u001b[0;34m*\u001b[0m\u001b[0margs\u001b[0m\u001b[0;34m,\u001b[0m \u001b[0;34m**\u001b[0m\u001b[0mkwargs\u001b[0m\u001b[0;34m)\u001b[0m\u001b[0;34m\u001b[0m\u001b[0;34m\u001b[0m\u001b[0m\n\u001b[0m\u001b[1;32m   1519\u001b[0m \u001b[0;34m\u001b[0m\u001b[0m\n\u001b[1;32m   1520\u001b[0m     \u001b[0;32mdef\u001b[0m \u001b[0m_call_impl\u001b[0m\u001b[0;34m(\u001b[0m\u001b[0mself\u001b[0m\u001b[0;34m,\u001b[0m \u001b[0;34m*\u001b[0m\u001b[0margs\u001b[0m\u001b[0;34m,\u001b[0m \u001b[0;34m**\u001b[0m\u001b[0mkwargs\u001b[0m\u001b[0;34m)\u001b[0m\u001b[0;34m:\u001b[0m\u001b[0;34m\u001b[0m\u001b[0;34m\u001b[0m\u001b[0m\n",
            "\u001b[0;32m/usr/local/lib/python3.10/dist-packages/torch/nn/modules/module.py\u001b[0m in \u001b[0;36m_call_impl\u001b[0;34m(self, *args, **kwargs)\u001b[0m\n\u001b[1;32m   1525\u001b[0m                 \u001b[0;32mor\u001b[0m \u001b[0m_global_backward_pre_hooks\u001b[0m \u001b[0;32mor\u001b[0m \u001b[0m_global_backward_hooks\u001b[0m\u001b[0;34m\u001b[0m\u001b[0;34m\u001b[0m\u001b[0m\n\u001b[1;32m   1526\u001b[0m                 or _global_forward_hooks or _global_forward_pre_hooks):\n\u001b[0;32m-> 1527\u001b[0;31m             \u001b[0;32mreturn\u001b[0m \u001b[0mforward_call\u001b[0m\u001b[0;34m(\u001b[0m\u001b[0;34m*\u001b[0m\u001b[0margs\u001b[0m\u001b[0;34m,\u001b[0m \u001b[0;34m**\u001b[0m\u001b[0mkwargs\u001b[0m\u001b[0;34m)\u001b[0m\u001b[0;34m\u001b[0m\u001b[0;34m\u001b[0m\u001b[0m\n\u001b[0m\u001b[1;32m   1528\u001b[0m \u001b[0;34m\u001b[0m\u001b[0m\n\u001b[1;32m   1529\u001b[0m         \u001b[0;32mtry\u001b[0m\u001b[0;34m:\u001b[0m\u001b[0;34m\u001b[0m\u001b[0;34m\u001b[0m\u001b[0m\n",
            "\u001b[0;32m<ipython-input-73-7d367e37f875>\u001b[0m in \u001b[0;36mforward\u001b[0;34m(self, input)\u001b[0m\n\u001b[1;32m     29\u001b[0m     \u001b[0;32mdef\u001b[0m \u001b[0mforward\u001b[0m\u001b[0;34m(\u001b[0m\u001b[0mself\u001b[0m\u001b[0;34m,\u001b[0m \u001b[0minput\u001b[0m\u001b[0;34m)\u001b[0m\u001b[0;34m:\u001b[0m\u001b[0;34m\u001b[0m\u001b[0;34m\u001b[0m\u001b[0m\n\u001b[1;32m     30\u001b[0m         \u001b[0mforward\u001b[0m \u001b[0;34m=\u001b[0m \u001b[0mtorch\u001b[0m\u001b[0;34m.\u001b[0m\u001b[0mzeros\u001b[0m\u001b[0;34m(\u001b[0m\u001b[0;36m1\u001b[0m\u001b[0;34m,\u001b[0m \u001b[0mself\u001b[0m\u001b[0;34m.\u001b[0m\u001b[0mimage_height\u001b[0m\u001b[0;34m,\u001b[0m \u001b[0mself\u001b[0m\u001b[0;34m.\u001b[0m\u001b[0mimage_width\u001b[0m\u001b[0;34m)\u001b[0m\u001b[0;34m.\u001b[0m\u001b[0mto\u001b[0m\u001b[0;34m(\u001b[0m\u001b[0mdevice\u001b[0m\u001b[0;34m=\u001b[0m\u001b[0mdevice\u001b[0m\u001b[0;34m,\u001b[0m \u001b[0mdtype\u001b[0m\u001b[0;34m=\u001b[0m\u001b[0mdtype\u001b[0m\u001b[0;34m)\u001b[0m\u001b[0;34m\u001b[0m\u001b[0;34m\u001b[0m\u001b[0m\n\u001b[0;32m---> 31\u001b[0;31m         \u001b[0mrotated_weights\u001b[0m \u001b[0;34m=\u001b[0m \u001b[0mrotateGridSample\u001b[0m\u001b[0;34m(\u001b[0m\u001b[0mself\u001b[0m\u001b[0;34m.\u001b[0m\u001b[0mweight\u001b[0m\u001b[0;34m,\u001b[0m \u001b[0mself\u001b[0m\u001b[0;34m.\u001b[0m\u001b[0mu\u001b[0m\u001b[0;34m,\u001b[0m \u001b[0mself\u001b[0m\u001b[0;34m.\u001b[0m\u001b[0mtheta\u001b[0m\u001b[0;34m)\u001b[0m\u001b[0;34m\u001b[0m\u001b[0;34m\u001b[0m\u001b[0m\n\u001b[0m\u001b[1;32m     32\u001b[0m         \u001b[0;32mfor\u001b[0m \u001b[0mi\u001b[0m \u001b[0;32min\u001b[0m \u001b[0mrange\u001b[0m\u001b[0;34m(\u001b[0m\u001b[0mself\u001b[0m\u001b[0;34m.\u001b[0m\u001b[0mdepth\u001b[0m\u001b[0;34m)\u001b[0m\u001b[0;34m:\u001b[0m\u001b[0;34m\u001b[0m\u001b[0;34m\u001b[0m\u001b[0m\n\u001b[1;32m     33\u001b[0m             \u001b[0mforward\u001b[0m \u001b[0;34m+=\u001b[0m \u001b[0mconv2d\u001b[0m\u001b[0;34m(\u001b[0m\u001b[0mrotated_weights\u001b[0m\u001b[0;34m[\u001b[0m\u001b[0mi\u001b[0m\u001b[0;34m]\u001b[0m\u001b[0;34m,\u001b[0m \u001b[0minput\u001b[0m\u001b[0;34m[\u001b[0m\u001b[0mi\u001b[0m\u001b[0;34m]\u001b[0m\u001b[0;34m)\u001b[0m\u001b[0;34m\u001b[0m\u001b[0;34m\u001b[0m\u001b[0m\n",
            "\u001b[0;32m<ipython-input-81-2e2b00c0c541>\u001b[0m in \u001b[0;36mrotateGridSample\u001b[0;34m(im, u, theta)\u001b[0m\n\u001b[1;32m     37\u001b[0m \u001b[0;34m\u001b[0m\u001b[0m\n\u001b[1;32m     38\u001b[0m   \u001b[0mreconstruction\u001b[0m \u001b[0;34m=\u001b[0m \u001b[0mnp\u001b[0m\u001b[0;34m.\u001b[0m\u001b[0mzeros\u001b[0m\u001b[0;34m(\u001b[0m\u001b[0;34m(\u001b[0m\u001b[0;36m44\u001b[0m\u001b[0;34m,\u001b[0m \u001b[0;36m540\u001b[0m\u001b[0;34m,\u001b[0m \u001b[0;36m640\u001b[0m\u001b[0;34m)\u001b[0m\u001b[0;34m)\u001b[0m\u001b[0;34m\u001b[0m\u001b[0;34m\u001b[0m\u001b[0m\n\u001b[0;32m---> 39\u001b[0;31m   \u001b[0mreconstruction\u001b[0m\u001b[0;34m[\u001b[0m\u001b[0mnormal_coords\u001b[0m\u001b[0;34m[\u001b[0m\u001b[0;34m:\u001b[0m\u001b[0;34m,\u001b[0m\u001b[0;36m0\u001b[0m\u001b[0;34m]\u001b[0m\u001b[0;34m,\u001b[0m \u001b[0mnormal_coords\u001b[0m\u001b[0;34m[\u001b[0m\u001b[0;34m:\u001b[0m\u001b[0;34m,\u001b[0m\u001b[0;36m1\u001b[0m\u001b[0;34m]\u001b[0m\u001b[0;34m,\u001b[0m \u001b[0mnormal_coords\u001b[0m\u001b[0;34m[\u001b[0m\u001b[0;34m:\u001b[0m\u001b[0;34m,\u001b[0m\u001b[0;36m2\u001b[0m\u001b[0;34m]\u001b[0m\u001b[0;34m]\u001b[0m \u001b[0;34m=\u001b[0m \u001b[0mim\u001b[0m\u001b[0;34m[\u001b[0m\u001b[0mrotated_coords\u001b[0m\u001b[0;34m[\u001b[0m\u001b[0;34m:\u001b[0m\u001b[0;34m,\u001b[0m\u001b[0;36m0\u001b[0m\u001b[0;34m]\u001b[0m\u001b[0;34m,\u001b[0m \u001b[0mrotated_coords\u001b[0m\u001b[0;34m[\u001b[0m\u001b[0;34m:\u001b[0m\u001b[0;34m,\u001b[0m\u001b[0;36m1\u001b[0m\u001b[0;34m]\u001b[0m\u001b[0;34m,\u001b[0m \u001b[0mrotated_coords\u001b[0m\u001b[0;34m[\u001b[0m\u001b[0;34m:\u001b[0m\u001b[0;34m,\u001b[0m\u001b[0;36m2\u001b[0m\u001b[0;34m]\u001b[0m\u001b[0;34m]\u001b[0m\u001b[0;34m\u001b[0m\u001b[0;34m\u001b[0m\u001b[0m\n\u001b[0m\u001b[1;32m     40\u001b[0m \u001b[0;34m\u001b[0m\u001b[0m\n\u001b[1;32m     41\u001b[0m   \u001b[0;32mreturn\u001b[0m \u001b[0mreconstruction\u001b[0m\u001b[0;34m\u001b[0m\u001b[0;34m\u001b[0m\u001b[0m\n",
            "\u001b[0;32m/usr/local/lib/python3.10/dist-packages/torch/_tensor.py\u001b[0m in \u001b[0;36m__array__\u001b[0;34m(self, dtype)\u001b[0m\n\u001b[1;32m   1030\u001b[0m             \u001b[0;32mreturn\u001b[0m \u001b[0mself\u001b[0m\u001b[0;34m.\u001b[0m\u001b[0mnumpy\u001b[0m\u001b[0;34m(\u001b[0m\u001b[0;34m)\u001b[0m\u001b[0;34m\u001b[0m\u001b[0;34m\u001b[0m\u001b[0m\n\u001b[1;32m   1031\u001b[0m         \u001b[0;32melse\u001b[0m\u001b[0;34m:\u001b[0m\u001b[0;34m\u001b[0m\u001b[0;34m\u001b[0m\u001b[0m\n\u001b[0;32m-> 1032\u001b[0;31m             \u001b[0;32mreturn\u001b[0m \u001b[0mself\u001b[0m\u001b[0;34m.\u001b[0m\u001b[0mnumpy\u001b[0m\u001b[0;34m(\u001b[0m\u001b[0;34m)\u001b[0m\u001b[0;34m.\u001b[0m\u001b[0mastype\u001b[0m\u001b[0;34m(\u001b[0m\u001b[0mdtype\u001b[0m\u001b[0;34m,\u001b[0m \u001b[0mcopy\u001b[0m\u001b[0;34m=\u001b[0m\u001b[0;32mFalse\u001b[0m\u001b[0;34m)\u001b[0m\u001b[0;34m\u001b[0m\u001b[0;34m\u001b[0m\u001b[0m\n\u001b[0m\u001b[1;32m   1033\u001b[0m \u001b[0;34m\u001b[0m\u001b[0m\n\u001b[1;32m   1034\u001b[0m     \u001b[0;31m# Wrap Numpy array again in a suitable tensor when done, to support e.g.\u001b[0m\u001b[0;34m\u001b[0m\u001b[0;34m\u001b[0m\u001b[0m\n",
            "\u001b[0;31mRuntimeError\u001b[0m: Can't call numpy() on Tensor that requires grad. Use tensor.detach().numpy() instead."
          ]
        },
        {
          "output_type": "display_data",
          "data": {
            "text/plain": [
              "<Figure size 640x480 with 1 Axes>"
            ],
            "image/png": "[encoded data removed]"
          },
          "metadata": {}
        }
      ]
    },
    {
      "cell_type": "code",
      "source": [
        "exportGIF(model_fft.weight, \"patrick\", \"drive/MyDrive/DiffuserCam/Images\", \"(0, 1, 0)_45.gif\")"
      ],
      "metadata": {
        "id": "qdy2eLy2zQgI"
      },
      "execution_count": null,
      "outputs": []
    },
    {
      "cell_type": "code",
      "source": [],
      "metadata": {
        "id": "DKlZYlNi3La5"
      },
      "execution_count": null,
      "outputs": []
    }
  ]
}